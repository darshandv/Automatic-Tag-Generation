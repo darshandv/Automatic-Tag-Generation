{
 "cells": [
  {
   "cell_type": "code",
   "execution_count": 1,
   "metadata": {
    "collapsed": true
   },
   "outputs": [],
   "source": [
    "import os\n",
    "import glob"
   ]
  },
  {
   "cell_type": "code",
   "execution_count": 4,
   "metadata": {
    "collapsed": false
   },
   "outputs": [
    {
     "name": "stdout",
     "output_type": "stream",
     "text": [
      "564.JPEG\n",
      "331.JPEG\n",
      "89.JPEG\n"
     ]
    }
   ],
   "source": [
    "types = ('*.jpg', '*.JPG','*.JPEG', '*.jpeg')\n",
    "files=[]\n",
    "os.chdir('/home/darshan/CS/Summer2018/Impel/darknet/data/train/')\n",
    "for t in types:\n",
    "    if glob.glob(t) != [] :\n",
    "        files.append(glob.glob(t))\n",
    "\n",
    "\n",
    "text_file = open(\"/home/darshan/CS/Summer2018/Impel/darknet/data/train.txt\",\"a+\")\n",
    "for f in files[0]:\n",
    "    print(f)\n",
    "    text_file.write('/home/darshan/CS/Summer2018/Impel/darknet/data/train/'+str(f)+'\\n')"
   ]
  },
  {
   "cell_type": "code",
   "execution_count": null,
   "metadata": {
    "collapsed": true
   },
   "outputs": [],
   "source": []
  }
 ],
 "metadata": {
  "anaconda-cloud": {},
  "kernelspec": {
   "display_name": "Python [default]",
   "language": "python",
   "name": "python3"
  },
  "language_info": {
   "codemirror_mode": {
    "name": "ipython",
    "version": 3
   },
   "file_extension": ".py",
   "mimetype": "text/x-python",
   "name": "python",
   "nbconvert_exporter": "python",
   "pygments_lexer": "ipython3",
   "version": "3.5.5"
  }
 },
 "nbformat": 4,
 "nbformat_minor": 1
}
