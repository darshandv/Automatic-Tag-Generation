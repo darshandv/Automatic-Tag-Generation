{
 "cells": [
  {
   "cell_type": "code",
   "execution_count": 7,
   "metadata": {},
   "outputs": [
    {
     "name": "stdout",
     "output_type": "stream",
     "text": [
      "license_plate2.jpg\n",
      "license_plate_car3.jpg\n",
      "564.JPEG\n",
      "331.JPEG\n",
      "89.JPEG\n",
      "license_plate.jpeg\n",
      "license_plate_car2.jpeg\n",
      "licence_plate_car.png\n"
     ]
    }
   ],
   "source": [
    "import os\n",
    "import glob\n",
    "types = ('*.jpg', '*.JPG','*.JPEG', '*.jpeg','*.png','*.PNG')\n",
    "files=[]\n",
    "folder_path = '/home/paperspace/Darshan/darknet/data/valid/'\n",
    "file_path = \"/home/paperspace/Darshan/darknet/data/test.txt\"\n",
    "os.chdir(folder_path)\n",
    "for t in types:\n",
    "    if glob.glob(t) != [] :\n",
    "        files.append(glob.glob(t))\n",
    "\n",
    "data=[]\n",
    "text_file = open(file_path,\"w\")\n",
    "for i in range(len(files)):\n",
    "    for f in files[i]:\n",
    "        print(f)\n",
    "        data.append(folder_path+str(f)+'\\n')\n",
    "text_file.writelines(data)\n",
    "os.chdir('../')"
   ]
  },
  {
   "cell_type": "code",
   "execution_count": 6,
   "metadata": {},
   "outputs": [
    {
     "data": {
      "text/plain": [
       "'/home/paperspace/Darshan/darknet/data/valid'"
      ]
     },
     "execution_count": 6,
     "metadata": {},
     "output_type": "execute_result"
    }
   ],
   "source": [
    "import os\n",
    "os.getcwd()"
   ]
  },
  {
   "cell_type": "code",
   "execution_count": null,
   "metadata": {},
   "outputs": [],
   "source": []
  }
 ],
 "metadata": {
  "anaconda-cloud": {},
  "kernelspec": {
   "display_name": "Python 3",
   "language": "python",
   "name": "python3"
  },
  "language_info": {
   "codemirror_mode": {
    "name": "ipython",
    "version": 3
   },
   "file_extension": ".py",
   "mimetype": "text/x-python",
   "name": "python",
   "nbconvert_exporter": "python",
   "pygments_lexer": "ipython3",
   "version": "3.6.5"
  }
 },
 "nbformat": 4,
 "nbformat_minor": 1
}
