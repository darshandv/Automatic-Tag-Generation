{
 "cells": [
  {
   "cell_type": "code",
   "execution_count": 1,
   "metadata": {},
   "outputs": [],
   "source": [
    "import automaticTagging"
   ]
  },
  {
   "cell_type": "code",
   "execution_count": 2,
   "metadata": {},
   "outputs": [],
   "source": [
    "# The format of the file argument and file path should specify the same format.\n",
    "data = automaticTagging.process_speech_to_text(\"data/video.mp4\",\"mp4\")"
   ]
  },
  {
   "cell_type": "code",
   "execution_count": 3,
   "metadata": {},
   "outputs": [
    {
     "name": "stdout",
     "output_type": "stream",
     "text": [
      " the student they make up a bit slower than the OnePlus 5 this young male is late for his 9 a.m. he kept his notes with a telephoto lens to get back to more important things here uses a portrait mode to stop a better student pixel front camera to say hi to his friends backhoe he makes excellent use of the expanded screenshot when I left rival Fitness his dominance he will use this to boast about winning the confrontation with his friends the one any style he can think of even if he goes Commando thanks to the screen of gesture the party can start if you juice a notification slider you could have prevented this bums go from crashing the party to tell him to finish that essay another screen of gesture allows him to turn on his torch to help him find the right key the reading mode will help take the straighten up his eyes while working on that last minute all nighter energy drinks weights and got student loan ready to do it all over again the OnePlus 5 now with a 10% student discount take that student debt\n"
     ]
    }
   ],
   "source": [
    "print(data)"
   ]
  },
  {
   "cell_type": "code",
   "execution_count": 4,
   "metadata": {},
   "outputs": [
    {
     "name": "stdout",
     "output_type": "stream",
     "text": [
      "[{'audio_key_tags': ['prevent', 'party', 'mode', 'debt', 'gesture', 'oneplus', 'help', 'rival', 'pixel', 'student', 'portrait', 'friend', 'slider', 'use', 'screen', 'reading', 'camera', 'ready', 'minute', 'right', 'straighten', '9 a.m.', 'commando', 'last minute', 'the oneplus 5', '10%']}, {'explicit_content_score': 0}]\n"
     ]
    }
   ],
   "source": [
    "# The data is unicoded string (str(<something>)) is sufficient if Python 3. The threshold for NLP model can be specified\n",
    "# for it. The default is 0.5\n",
    "audio_tags = automaticTagging.get_tags_for_audio(data,threshold=0.5)\n",
    "print(audio_tags)"
   ]
  },
  {
   "cell_type": "code",
   "execution_count": 5,
   "metadata": {},
   "outputs": [
    {
     "name": "stdout",
     "output_type": "stream",
     "text": [
      "{'video_key_tags': ['toothbrush', 'diningtable', 'remote', 'cell phone', 'tvmonitor', 'apple', 'clock', 'laptop', 'knife', 'chair', 'bowl', 'bottle', 'backpack', 'cup', 'donut', 'vase', 'tie', 'person', 'spoon', 'book', 'pottedplant']}\n"
     ]
    }
   ],
   "source": [
    "# The argument is the path to video file. The number of frames that can be skipped can be specified as n_frames. The\n",
    "# default is 20. i.e. automaticTagging.get_tags_for_video('data/video.mp4',n_frames=25). If 1 nothing is skipped.\n",
    "video_tags = automaticTagging.get_tags_for_video('data/video.mp4')\n",
    "print(video_tags)"
   ]
  },
  {
   "cell_type": "code",
   "execution_count": 6,
   "metadata": {},
   "outputs": [],
   "source": [
    "# The entire tags can be converted into json file. But the audio_tags and video_tags should be in \n",
    "# the format the getter functions get them.\n",
    "automaticTagging.create_json_file('kay_tags.json',audio_tags,video_tags)"
   ]
  },
  {
   "cell_type": "code",
   "execution_count": null,
   "metadata": {},
   "outputs": [],
   "source": []
  }
 ],
 "metadata": {
  "kernelspec": {
   "display_name": "Python 3",
   "language": "python",
   "name": "python3"
  },
  "language_info": {
   "codemirror_mode": {
    "name": "ipython",
    "version": 3
   },
   "file_extension": ".py",
   "mimetype": "text/x-python",
   "name": "python",
   "nbconvert_exporter": "python",
   "pygments_lexer": "ipython3",
   "version": "3.6.5"
  }
 },
 "nbformat": 4,
 "nbformat_minor": 2
}
