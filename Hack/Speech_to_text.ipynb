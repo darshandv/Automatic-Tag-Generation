{
 "cells": [
  {
   "cell_type": "code",
   "execution_count": 11,
   "metadata": {},
   "outputs": [
    {
     "name": "stdout",
     "output_type": "stream",
     "text": [
      "0\n",
      "15\n",
      "30\n",
      "45\n",
      "60\n",
      "75\n",
      " the student they make up a bit slower than the OnePlus 5 this young male is late for his 9 a.m. he kept his notes with a telephoto lens to get back to more important things here use the support rate mode to snap of a better student pixel front camera to say hi to his friends backhoe he makes excellent use of the expanded screenshot when I left rival Fitness his dominance he will use this to boast about winning the confrontation with his friends the one any style he can think of even if he goes Commando thanks to the screen of gesture. if you juice a notification slider you could have prevented this bums go from crashing the party to tell him to finish that essay another screen of gesture allows him to turn on his torch to help him find the right key the reading mode will help take the straighten up his eyes while working on that last minute all nighter weights and got student loan ready to do it all over again the OnePlus 5 now with a 10% student discount take that student debt\n"
     ]
    }
   ],
   "source": [
    "import speech_recognition as sr\n",
    "from pydub import AudioSegment\n",
    "\n",
    "sound = AudioSegment.from_file(\"OnePlus_audio.mp3\", format=\"mp3\")\n",
    "r = sr.Recognizer()\n",
    "article_list = []\n",
    "\n",
    "for i in range(0,int(len(sound)/1000),15):\n",
    "    if(i+15<int(len(sound)/1000)):\n",
    "        print(i)\n",
    "        cropped = sound[i*1000:(14+i)*1000]\n",
    "        cropped.export(\"file.wav\", format=\"wav\")\n",
    "        with sr.AudioFile('file.wav') as source:\n",
    "            audio = r.record(source)\n",
    "        try:\n",
    "            text = r.recognize_google(audio)\n",
    "#             article.join(' '+str(text))\n",
    "            article_list.append(text)\n",
    "        except :\n",
    "            text = r.recognize_sphinx(audio)\n",
    "            article_list.append(text)\n",
    "#             article.join(' '+str(text))\n",
    "\n",
    "cropped = sound[i*1000:int(len(sound))]\n",
    "cropped.export(\"file.wav\", format=\"wav\")\n",
    "with sr.AudioFile('file.wav') as source:\n",
    "    audio = r.record(source)\n",
    "try:\n",
    "    text = r.recognize_google(audio)\n",
    "#             article.join(' '+str(text))\n",
    "    article_list.append(text)\n",
    "except :\n",
    "#     text = r.recognize_sphinx(audio)\n",
    "#     article_list.append(text)\n",
    "    print('Error')\n",
    "string = ''\n",
    "for crop in article_list:\n",
    "    string=string+' '+crop\n",
    "print(string)"
   ]
  },
  {
   "cell_type": "code",
   "execution_count": 9,
   "metadata": {},
   "outputs": [
    {
     "name": "stdout",
     "output_type": "stream",
     "text": [
      " the student they make up a bit slower than the OnePlus 5 this young male is late for his 9 a.m. he kept his notes with a telephoto lens to get back to more important things\n"
     ]
    }
   ],
   "source": [
    "string = ''\n",
    "for crop in article_list:\n",
    "    string=string+' '+crop\n",
    "print(string)"
   ]
  },
  {
   "cell_type": "code",
   "execution_count": null,
   "metadata": {},
   "outputs": [],
   "source": []
  }
 ],
 "metadata": {
  "kernelspec": {
   "display_name": "Python 3",
   "language": "python",
   "name": "python3"
  },
  "language_info": {
   "codemirror_mode": {
    "name": "ipython",
    "version": 3
   },
   "file_extension": ".py",
   "mimetype": "text/x-python",
   "name": "python",
   "nbconvert_exporter": "python",
   "pygments_lexer": "ipython3",
   "version": "3.6.5"
  }
 },
 "nbformat": 4,
 "nbformat_minor": 2
}
